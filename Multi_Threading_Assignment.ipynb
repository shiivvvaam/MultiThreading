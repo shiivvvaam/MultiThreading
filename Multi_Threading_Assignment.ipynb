{
  "nbformat": 4,
  "nbformat_minor": 0,
  "metadata": {
    "colab": {
      "provenance": []
    },
    "kernelspec": {
      "name": "python3",
      "display_name": "Python 3"
    },
    "language_info": {
      "name": "python"
    }
  },
  "cells": [
    {
      "cell_type": "markdown",
      "source": [],
      "metadata": {
        "id": "a0aFeYGdGoeh"
      }
    },
    {
      "cell_type": "markdown",
      "source": [
        "##*Multi Threading*"
      ],
      "metadata": {
        "id": "_QQCqf2tjiIQ"
      }
    },
    {
      "cell_type": "code",
      "execution_count": null,
      "metadata": {
        "id": "bcwEatqF_c2M"
      },
      "outputs": [],
      "source": [
        "import time\n",
        "import concurrent.futures\n",
        "import threading\n",
        "import logging\n",
        "import os\n",
        "import numpy as np\n",
        "import pandas as pd\n",
        "import matplotlib.pyplot as plt"
      ]
    },
    {
      "cell_type": "code",
      "source": [
        "def task():\n",
        "    # Create 2 rand 100x100 matrices\n",
        "    mat1 = 10 * np.random.random_sample((500,500))\n",
        "    mat2 = 10 * np.random.random_sample((500,500))\n",
        "    # Multiply matricex\n",
        "    mul = mat1*mat2\n",
        "\n",
        "results = pd.DataFrame(columns = [\"Exec\",\"#_of_Mat\",\"Time\"])\n",
        "NO_OF_MATRICES = 5000"
      ],
      "metadata": {
        "id": "F4Igi_Kp_hWT"
      },
      "execution_count": null,
      "outputs": []
    },
    {
      "cell_type": "code",
      "source": [
        "%%time\n",
        "# Serial Execution\n",
        "start = time.perf_counter()\n",
        "\n",
        "for _ in range(NO_OF_MATRICES):\n",
        "    task()\n",
        "\n",
        "finish = time.perf_counter()\n",
        "results.loc[len(results)] = [\"Serial Execution\",NO_OF_MATRICES,round(finish-start,3)]"
      ],
      "metadata": {
        "colab": {
          "base_uri": "https://localhost:8080/"
        },
        "id": "BYcXVjsP_2xh",
        "outputId": "61e2d518-eb51-4a66-f853-c22bbbfaf6ed"
      },
      "execution_count": null,
      "outputs": [
        {
          "output_type": "stream",
          "name": "stdout",
          "text": [
            "CPU times: user 30.1 s, sys: 18.1 s, total: 48.2 s\n",
            "Wall time: 48.4 s\n"
          ]
        }
      ]
    },
    {
      "cell_type": "code",
      "source": [
        "%%time\n",
        "# Using ProcessPoolExecutor\n",
        "start = time.perf_counter()\n",
        "\n",
        "with concurrent.futures.ProcessPoolExecutor() as executor:\n",
        "    [executor.submit(task) for _ in range(NO_OF_MATRICES)]\n",
        "\n",
        "finish = time.perf_counter()\n",
        "results.loc[len(results)] = [\"Using MultiProcessing\",NO_OF_MATRICES,round(finish-start,3)]"
      ],
      "metadata": {
        "colab": {
          "base_uri": "https://localhost:8080/"
        },
        "id": "kZl4CSimA4BP",
        "outputId": "8c866aff-b0c0-49d4-f561-63e2c49b8a06"
      },
      "execution_count": null,
      "outputs": [
        {
          "output_type": "stream",
          "name": "stdout",
          "text": [
            "CPU times: user 2.27 s, sys: 331 ms, total: 2.6 s\n",
            "Wall time: 47 s\n"
          ]
        }
      ]
    },
    {
      "cell_type": "code",
      "source": [
        "%%time\n",
        "# Using ThreadPoolExecutor\n",
        "start = time.perf_counter()\n",
        "\n",
        "with concurrent.futures.ThreadPoolExecutor() as executor:\n",
        "    [executor.submit(task) for _ in range(NO_OF_MATRICES)]\n",
        "\n",
        "finish = time.perf_counter()\n",
        "results.loc[len(results)] = [\"Using MultiThreading\",NO_OF_MATRICES,round(finish-start,3)]"
      ],
      "metadata": {
        "colab": {
          "base_uri": "https://localhost:8080/"
        },
        "id": "U-U0LW0pBGQK",
        "outputId": "f1eb8df7-903e-4fb3-a53e-a8bd76e56bdf"
      },
      "execution_count": null,
      "outputs": [
        {
          "output_type": "stream",
          "name": "stdout",
          "text": [
            "CPU times: user 36.2 s, sys: 16.2 s, total: 52.4 s\n",
            "Wall time: 41.3 s\n"
          ]
        }
      ]
    },
    {
      "cell_type": "code",
      "source": [
        "matrices = [1000,2500,7500,10000]\n",
        "for mat in matrices:\n",
        "    print(\"> No of mats\",mat)\n",
        "    # Serial Execution\n",
        "    start = time.perf_counter()\n",
        "\n",
        "    for _ in range(mat):\n",
        "        task()\n",
        "\n",
        "    finish = time.perf_counter()\n",
        "    results.loc[len(results)] = [\"Serial Execution\",mat,round(finish-start,3)]\n",
        "\n",
        "    # Using ProcessPoolExecutor\n",
        "    start = time.perf_counter()\n",
        "\n",
        "    with concurrent.futures.ProcessPoolExecutor() as executor:\n",
        "        [executor.submit(task) for _ in range(mat)]\n",
        "\n",
        "    finish = time.perf_counter()\n",
        "    results.loc[len(results)] = [\"Using MultiProcessing\",mat,round(finish-start,3)]\n",
        "\n",
        "    # Using ThreadPoolExecutor\n",
        "    start = time.perf_counter()\n",
        "\n",
        "    with concurrent.futures.ThreadPoolExecutor() as executor:\n",
        "        [executor.submit(task) for _ in range(mat)]\n",
        "\n",
        "    finish = time.perf_counter()\n",
        "    results.loc[len(results)] = [\"Using MultiThreading\",mat,round(finish-start,3)]"
      ],
      "metadata": {
        "colab": {
          "base_uri": "https://localhost:8080/"
        },
        "id": "8pDwPPOpBzCb",
        "outputId": "2425570d-1185-4d71-e434-0fe241f02adf"
      },
      "execution_count": null,
      "outputs": [
        {
          "output_type": "stream",
          "name": "stdout",
          "text": [
            "> No of mats 1000\n",
            "> No of mats 2500\n",
            "> No of mats 7500\n",
            "> No of mats 10000\n"
          ]
        }
      ]
    },
    {
      "cell_type": "code",
      "source": [
        "results = results.sort_values(\"#_of_Mat\")"
      ],
      "metadata": {
        "id": "Ug-Zciu9C4Pb"
      },
      "execution_count": null,
      "outputs": []
    },
    {
      "cell_type": "code",
      "source": [
        "import seaborn as sns\n",
        "sns.barplot(data=results,x=\"#_of_Mat\",y=\"Time\",hue=\"Exec\");"
      ],
      "metadata": {
        "colab": {
          "base_uri": "https://localhost:8080/",
          "height": 450
        },
        "id": "ODmC0JaRGEAt",
        "outputId": "e2a164fc-8dda-48a7-8789-1220f1ed7e0d"
      },
      "execution_count": null,
      "outputs": [
        {
          "output_type": "display_data",
          "data": {
            "text/plain": [
              "<Figure size 640x480 with 1 Axes>"
            ],
            "image/png": "[encoded data removed]"
          },
          "metadata": {}
        }
      ]
    }
  ]
}